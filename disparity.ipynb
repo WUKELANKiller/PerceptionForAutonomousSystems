{
 "cells": [
  {
   "cell_type": "code",
   "execution_count": 1,
   "id": "1dcaf9f9",
   "metadata": {},
   "outputs": [
    {
     "ename": "SyntaxError",
     "evalue": "invalid syntax (Temp/ipykernel_10524/2187662327.py, line 1)",
     "output_type": "error",
     "traceback": [
      "\u001b[1;36m  File \u001b[1;32m\"C:\\Users\\RICHAR~1\\AppData\\Local\\Temp/ipykernel_10524/2187662327.py\"\u001b[1;36m, line \u001b[1;32m1\u001b[0m\n\u001b[1;33m    // Simplified attempt\u001b[0m\n\u001b[1;37m    ^\u001b[0m\n\u001b[1;31mSyntaxError\u001b[0m\u001b[1;31m:\u001b[0m invalid syntax\n"
     ]
    }
   ],
   "source": [
    "// Simplified attempt\n",
    "#define STARTING_MATCHING_COST 100.0f\n",
    "struct pixel {\n",
    "    float R;\n",
    "    float G;\n",
    "    float B;\n",
    "};\n",
    "\n",
    "__global__ void computeDisparity(\n",
    "    const struct pixel * imageR,  // Input pixel array of left image \n",
    "                           // array dim: image[image_width][image_height]\n",
    "    const struct pixel * imageL,  // Input pixel array of right image\n",
    "    const int window_size, // size of window used for block searching\n",
    "    const int image_height, // height of the image, in pixels\n",
    "    const int image_width, // width of the image, in pixels\n",
    "    const char * foregroundR, // Array of foreground flags for each pixel in imageR\n",
    "    const char * foregroundL, // Array of foreground flags for each pixel in imageL\n",
    "    float * disparity_output) // Output array (same dim as imageR/L) of disparity values\n",
    "{\n",
    "    // Local variables:\n",
    "    long int pixel_index = blockIdx.x * blockDim.x + threadIdx.x; // Index of current pixel\n",
    "    float matching_cost = 0.0;\n",
    "    float min_matching_cost = STARTING_MATCHING_COST;\n",
    "    long int min_cost_offset = 0; \n",
    "    long int offset_pixel_index = 0;\n",
    "\n",
    "    while(pixel_index < image_height * image_width) { \n",
    "        // while... the thread index hasn't gone outside the image dimensions\n",
    "        if (true) { //foregroundL[pixel_index] == 1) {\n",
    "            // Calculate matching cost for this foreground pixel\n",
    "            // ensure that we are not going over the end of the pixel row\n",
    "            offset_pixel_index = pixel_index;\n",
    "            min_matching_cost = STARTING_MATCHING_COST;\n",
    "            min_cost_offset = 0;\n",
    "            for (int offset = 0; offset < window_size; offset++) { \n",
    "                if ((pixel_index % image_width) + offset >= image_width) {\n",
    "                    break;\n",
    "                }\n",
    "                matching_cost =  powf(imageL[pixel_index].R - imageR[offset_pixel_index].R, 2);\n",
    "                matching_cost += powf(imageL[pixel_index].G - imageR[offset_pixel_index].G, 2);\n",
    "                matching_cost += powf(imageL[pixel_index].B - imageR[offset_pixel_index].B, 2);\n",
    "                if (matching_cost < min_matching_cost) {\n",
    "                    min_matching_cost = matching_cost; \n",
    "                    min_cost_offset = offset;\n",
    "                }\n",
    "                offset_pixel_index++;\n",
    "            }\n",
    "\n",
    "            if (min_matching_cost == STARTING_MATCHING_COST) {\n",
    "                disparity_output[pixel_index] = 0;\n",
    "            } else {\n",
    "                disparity_output[pixel_index] = powf(min_cost_offset, 2); //  + image_width;\n",
    "            }\n",
    "        } else {\n",
    "            disparity_output[pixel_index] = -1;\n",
    "        }\n",
    "        pixel_index += blockDim.x * gridDim.x;\n",
    "    }\n",
    "}\n",
    "\n",
    "    "
   ]
  },
  {
   "cell_type": "code",
   "execution_count": null,
   "id": "315f4054",
   "metadata": {},
   "outputs": [],
   "source": []
  },
  {
   "cell_type": "code",
   "execution_count": null,
   "id": "5594fa65",
   "metadata": {},
   "outputs": [],
   "source": []
  },
  {
   "cell_type": "code",
   "execution_count": null,
   "id": "af2c919b",
   "metadata": {},
   "outputs": [],
   "source": []
  }
 ],
 "metadata": {
  "kernelspec": {
   "display_name": "Python 3 (ipykernel)",
   "language": "python",
   "name": "python3"
  },
  "language_info": {
   "codemirror_mode": {
    "name": "ipython",
    "version": 3
   },
   "file_extension": ".py",
   "mimetype": "text/x-python",
   "name": "python",
   "nbconvert_exporter": "python",
   "pygments_lexer": "ipython3",
   "version": "3.9.7"
  }
 },
 "nbformat": 4,
 "nbformat_minor": 5
}
